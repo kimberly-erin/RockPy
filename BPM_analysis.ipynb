{
 "cells": [
  {
   "cell_type": "code",
   "execution_count": 34,
   "metadata": {},
   "outputs": [],
   "source": [
    "#import dependencies\n",
    "import pandas as pd\n",
    "import matplotlib.pyplot as plt\n",
    "import numpy as np\n",
    "from scipy import stats"
   ]
  },
  {
   "cell_type": "code",
   "execution_count": 35,
   "metadata": {},
   "outputs": [
    {
     "data": {
      "text/html": [
       "<div>\n",
       "<style scoped>\n",
       "    .dataframe tbody tr th:only-of-type {\n",
       "        vertical-align: middle;\n",
       "    }\n",
       "\n",
       "    .dataframe tbody tr th {\n",
       "        vertical-align: top;\n",
       "    }\n",
       "\n",
       "    .dataframe thead th {\n",
       "        text-align: right;\n",
       "    }\n",
       "</style>\n",
       "<table border=\"1\" class=\"dataframe\">\n",
       "  <thead>\n",
       "    <tr style=\"text-align: right;\">\n",
       "      <th></th>\n",
       "      <th>Unnamed: 0</th>\n",
       "      <th>Rank</th>\n",
       "      <th>Song</th>\n",
       "      <th>Artist</th>\n",
       "      <th>Year</th>\n",
       "      <th>Lyrics</th>\n",
       "      <th>Source</th>\n",
       "      <th>BPM</th>\n",
       "    </tr>\n",
       "  </thead>\n",
       "  <tbody>\n",
       "    <tr>\n",
       "      <th>0</th>\n",
       "      <td>0</td>\n",
       "      <td>1</td>\n",
       "      <td>wooly bully</td>\n",
       "      <td>sam the sham and the pharaohs</td>\n",
       "      <td>1965</td>\n",
       "      <td>sam the sham miscellaneous wooly bully wooly b...</td>\n",
       "      <td>3.0</td>\n",
       "      <td>NaN</td>\n",
       "    </tr>\n",
       "    <tr>\n",
       "      <th>1</th>\n",
       "      <td>1</td>\n",
       "      <td>2</td>\n",
       "      <td>i cant help myself sugar pie honey bunch</td>\n",
       "      <td>four tops</td>\n",
       "      <td>1965</td>\n",
       "      <td>sugar pie honey bunch you know that i love yo...</td>\n",
       "      <td>1.0</td>\n",
       "      <td>NaN</td>\n",
       "    </tr>\n",
       "    <tr>\n",
       "      <th>2</th>\n",
       "      <td>2</td>\n",
       "      <td>3</td>\n",
       "      <td>i cant get no satisfaction</td>\n",
       "      <td>the rolling stones</td>\n",
       "      <td>1965</td>\n",
       "      <td>NAN</td>\n",
       "      <td>1.0</td>\n",
       "      <td>NaN</td>\n",
       "    </tr>\n",
       "    <tr>\n",
       "      <th>3</th>\n",
       "      <td>3</td>\n",
       "      <td>4</td>\n",
       "      <td>you were on my mind</td>\n",
       "      <td>we five</td>\n",
       "      <td>1965</td>\n",
       "      <td>when i woke up this morning you were on my mi...</td>\n",
       "      <td>1.0</td>\n",
       "      <td>NaN</td>\n",
       "    </tr>\n",
       "    <tr>\n",
       "      <th>4</th>\n",
       "      <td>4</td>\n",
       "      <td>5</td>\n",
       "      <td>youve lost that lovin feelin</td>\n",
       "      <td>the righteous brothers</td>\n",
       "      <td>1965</td>\n",
       "      <td>you never close your eyes anymore when i kiss...</td>\n",
       "      <td>1.0</td>\n",
       "      <td>NaN</td>\n",
       "    </tr>\n",
       "  </tbody>\n",
       "</table>\n",
       "</div>"
      ],
      "text/plain": [
       "   Unnamed: 0  Rank                                      Song  \\\n",
       "0           0     1                               wooly bully   \n",
       "1           1     2  i cant help myself sugar pie honey bunch   \n",
       "2           2     3                i cant get no satisfaction   \n",
       "3           3     4                       you were on my mind   \n",
       "4           4     5              youve lost that lovin feelin   \n",
       "\n",
       "                          Artist  Year  \\\n",
       "0  sam the sham and the pharaohs  1965   \n",
       "1                      four tops  1965   \n",
       "2             the rolling stones  1965   \n",
       "3                        we five  1965   \n",
       "4         the righteous brothers  1965   \n",
       "\n",
       "                                              Lyrics  Source  BPM  \n",
       "0  sam the sham miscellaneous wooly bully wooly b...     3.0  NaN  \n",
       "1   sugar pie honey bunch you know that i love yo...     1.0  NaN  \n",
       "2                                                NAN     1.0  NaN  \n",
       "3   when i woke up this morning you were on my mi...     1.0  NaN  \n",
       "4   you never close your eyes anymore when i kiss...     1.0  NaN  "
      ]
     },
     "execution_count": 35,
     "metadata": {},
     "output_type": "execute_result"
    }
   ],
   "source": [
    "#import csv and turn into dataframe\n",
    "file_path = \"BPM_CSV.csv\"\n",
    "bpm_df = pd.read_csv(file_path)\n",
    "bpm_df.head()"
   ]
  },
  {
   "cell_type": "code",
   "execution_count": 36,
   "metadata": {},
   "outputs": [
    {
     "data": {
      "text/html": [
       "<div>\n",
       "<style scoped>\n",
       "    .dataframe tbody tr th:only-of-type {\n",
       "        vertical-align: middle;\n",
       "    }\n",
       "\n",
       "    .dataframe tbody tr th {\n",
       "        vertical-align: top;\n",
       "    }\n",
       "\n",
       "    .dataframe thead th {\n",
       "        text-align: right;\n",
       "    }\n",
       "</style>\n",
       "<table border=\"1\" class=\"dataframe\">\n",
       "  <thead>\n",
       "    <tr style=\"text-align: right;\">\n",
       "      <th></th>\n",
       "      <th>Rank</th>\n",
       "      <th>Song</th>\n",
       "      <th>Artist</th>\n",
       "      <th>Year</th>\n",
       "      <th>Lyrics</th>\n",
       "      <th>Source</th>\n",
       "      <th>BPM</th>\n",
       "    </tr>\n",
       "  </thead>\n",
       "  <tbody>\n",
       "    <tr>\n",
       "      <th>0</th>\n",
       "      <td>7</td>\n",
       "      <td>help</td>\n",
       "      <td>the beatles</td>\n",
       "      <td>1965</td>\n",
       "      <td>help i need somebody help not just anybody hel...</td>\n",
       "      <td>3.0</td>\n",
       "      <td>112.0</td>\n",
       "    </tr>\n",
       "    <tr>\n",
       "      <th>1</th>\n",
       "      <td>9</td>\n",
       "      <td>crying in the chapel</td>\n",
       "      <td>elvis presley</td>\n",
       "      <td>1965</td>\n",
       "      <td>you saw me crying in the chapel the tears i s...</td>\n",
       "      <td>1.0</td>\n",
       "      <td>72.0</td>\n",
       "    </tr>\n",
       "    <tr>\n",
       "      <th>2</th>\n",
       "      <td>10</td>\n",
       "      <td>my girl</td>\n",
       "      <td>the temptations</td>\n",
       "      <td>1965</td>\n",
       "      <td>ive got sunshine on a cloudy day when its cold...</td>\n",
       "      <td>3.0</td>\n",
       "      <td>104.0</td>\n",
       "    </tr>\n",
       "    <tr>\n",
       "      <th>3</th>\n",
       "      <td>11</td>\n",
       "      <td>help me rhonda</td>\n",
       "      <td>the beach boys</td>\n",
       "      <td>1965</td>\n",
       "      <td>well since she put me down i ve been out doin ...</td>\n",
       "      <td>3.0</td>\n",
       "      <td>140.0</td>\n",
       "    </tr>\n",
       "    <tr>\n",
       "      <th>4</th>\n",
       "      <td>21</td>\n",
       "      <td>unchained melody</td>\n",
       "      <td>the righteous brothers</td>\n",
       "      <td>1965</td>\n",
       "      <td>oh my love my darling ive hungered for your t...</td>\n",
       "      <td>1.0</td>\n",
       "      <td>98.0</td>\n",
       "    </tr>\n",
       "  </tbody>\n",
       "</table>\n",
       "</div>"
      ],
      "text/plain": [
       "   Rank                  Song                  Artist  Year  \\\n",
       "0     7                  help             the beatles  1965   \n",
       "1     9  crying in the chapel           elvis presley  1965   \n",
       "2    10               my girl         the temptations  1965   \n",
       "3    11        help me rhonda          the beach boys  1965   \n",
       "4    21      unchained melody  the righteous brothers  1965   \n",
       "\n",
       "                                              Lyrics  Source    BPM  \n",
       "0  help i need somebody help not just anybody hel...     3.0  112.0  \n",
       "1   you saw me crying in the chapel the tears i s...     1.0   72.0  \n",
       "2  ive got sunshine on a cloudy day when its cold...     3.0  104.0  \n",
       "3  well since she put me down i ve been out doin ...     3.0  140.0  \n",
       "4   oh my love my darling ive hungered for your t...     1.0   98.0  "
      ]
     },
     "execution_count": 36,
     "metadata": {},
     "output_type": "execute_result"
    }
   ],
   "source": [
    "#Remove blank rows\n",
    "clean_bpm_df = bpm_df.replace(\" \",\"NaN\")\n",
    "clean_bpm_df = bpm_df.dropna(subset=[\"BPM\"])\n",
    "clean_bpm_df = clean_bpm_df.reset_index(drop=True)\n",
    "clean_bpm_df = clean_bpm_df[[\"Rank\",\"Song\",\"Artist\",\"Year\",\"Lyrics\", \"Source\", \"BPM\"]]\n",
    "clean_bpm_df.head()\n",
    "#clean_bpm_df.count()"
   ]
  },
  {
   "cell_type": "code",
   "execution_count": 37,
   "metadata": {},
   "outputs": [
    {
     "name": "stdout",
     "output_type": "stream",
     "text": [
      "120.1869618696187\n"
     ]
    }
   ],
   "source": [
    "average_bpm=clean_bpm_df[\"BPM\"].mean()\n",
    "print(average_bpm)"
   ]
  },
  {
   "cell_type": "code",
   "execution_count": 38,
   "metadata": {},
   "outputs": [
    {
     "name": "stdout",
     "output_type": "stream",
     "text": [
      "Rank                                                     52\n",
      "Song                                   how can we be lovers\n",
      "Artist                                       michael bolton\n",
      "Year                                                   1990\n",
      "Lyrics     how can we be lovers if we cant be friends ho...\n",
      "Source                                                    1\n",
      "BPM                                                     208\n",
      "Name: 1226, dtype: object\n",
      "Rank                                                     68\n",
      "Song                                        show me the way\n",
      "Artist                                                 styx\n",
      "Year                                                   1991\n",
      "Lyrics     every night i say a prayer in the hopes that ...\n",
      "Source                                                    1\n",
      "BPM                                                      52\n",
      "Name: 1289, dtype: object\n"
     ]
    }
   ],
   "source": [
    "max_bpm=clean_bpm_df.loc[clean_bpm_df[\"BPM\"].idxmax()]\n",
    "min_bpm=clean_bpm_df.loc[clean_bpm_df[\"BPM\"].idxmin()]\n",
    "print(max_bpm)\n",
    "print(min_bpm)"
   ]
  },
  {
   "cell_type": "code",
   "execution_count": 39,
   "metadata": {},
   "outputs": [
    {
     "data": {
      "image/png": "[encoded data removed]",
      "text/plain": [
       "<matplotlib.figure.Figure at 0x1ec01ff8438>"
      ]
     },
     "metadata": {},
     "output_type": "display_data"
    }
   ],
   "source": [
    "#Scatterplot Year vs Beats per minute\n",
    "#plt.figure(figsize=(15,10))\n",
    "plt.scatter(clean_bpm_df[\"Year\"], clean_bpm_df[\"BPM\"])\n",
    "plt.title('Beats per Minute vs Year')\n",
    "plt.xlabel('Years')\n",
    "plt.ylabel('Beats per Minute')\n",
    "plt.xlim(1964,2016)\n",
    "#plt.grid()\n",
    "plt.hlines(120, 1964, 2016)\n",
    "plt.savefig(\"bpm_year.png\")\n",
    "plt.show()"
   ]
  },
  {
   "cell_type": "code",
   "execution_count": 40,
   "metadata": {},
   "outputs": [
    {
     "data": {
      "text/html": [
       "<div>\n",
       "<style scoped>\n",
       "    .dataframe tbody tr th:only-of-type {\n",
       "        vertical-align: middle;\n",
       "    }\n",
       "\n",
       "    .dataframe tbody tr th {\n",
       "        vertical-align: top;\n",
       "    }\n",
       "\n",
       "    .dataframe thead th {\n",
       "        text-align: right;\n",
       "    }\n",
       "</style>\n",
       "<table border=\"1\" class=\"dataframe\">\n",
       "  <thead>\n",
       "    <tr style=\"text-align: right;\">\n",
       "      <th></th>\n",
       "      <th>BPM Average</th>\n",
       "    </tr>\n",
       "    <tr>\n",
       "      <th>Decade</th>\n",
       "      <th></th>\n",
       "    </tr>\n",
       "  </thead>\n",
       "  <tbody>\n",
       "    <tr>\n",
       "      <th>&lt;1970</th>\n",
       "      <td>119.042373</td>\n",
       "    </tr>\n",
       "    <tr>\n",
       "      <th>1970-1979</th>\n",
       "      <td>118.607375</td>\n",
       "    </tr>\n",
       "    <tr>\n",
       "      <th>1980-1989</th>\n",
       "      <td>120.415771</td>\n",
       "    </tr>\n",
       "    <tr>\n",
       "      <th>1990-1999</th>\n",
       "      <td>118.209446</td>\n",
       "    </tr>\n",
       "    <tr>\n",
       "      <th>2000-2009</th>\n",
       "      <td>120.700219</td>\n",
       "    </tr>\n",
       "    <tr>\n",
       "      <th>2010+</th>\n",
       "      <td>126.850000</td>\n",
       "    </tr>\n",
       "  </tbody>\n",
       "</table>\n",
       "</div>"
      ],
      "text/plain": [
       "           BPM Average\n",
       "Decade                \n",
       "<1970       119.042373\n",
       "1970-1979   118.607375\n",
       "1980-1989   120.415771\n",
       "1990-1999   118.209446\n",
       "2000-2009   120.700219\n",
       "2010+       126.850000"
      ]
     },
     "execution_count": 40,
     "metadata": {},
     "output_type": "execute_result"
    }
   ],
   "source": [
    "#Create Bins\n",
    "#bins = [0, 1970, 1975, 1980, 1985, 1990, 1995, 2000, 2005, 2010, 2016]\n",
    "#group_names = ['<1970', '1970-1974', '1975-1979', '1980-1984', '1985-1989', '1990-1994', '1995-1999', '2000-2004', '2005-2009', '2010+']\n",
    "\n",
    "bins = [0, 1970, 1980, 1990, 2000, 2010, 2016]\n",
    "group_names = ['<1970', '1970-1979', '1980-1989', '1990-1999', '2000-2009', '2010+']\n",
    "#new dataframe and groupby\n",
    "decade_df = clean_bpm_df.copy()\n",
    "decade_df[\"Decade\"] = pd.cut(clean_bpm_df[\"Year\"], bins, labels=group_names)\n",
    "decade_groups = decade_df.groupby([\"Decade\"])\n",
    "\n",
    "#find average bpm per decade\n",
    "decade_average = decade_groups[\"BPM\"].mean()\n",
    "decade_count = decade_groups[\"BPM\"].count()\n",
    "\n",
    "bpm_decade_df = pd.DataFrame({\n",
    "                      \"BPM Average\" : decade_average,})\n",
    "                    #\"Songs With BPM Data\" : decade_count})\n",
    "\n",
    "bpm_decade_df"
   ]
  },
  {
   "cell_type": "code",
   "execution_count": 47,
   "metadata": {},
   "outputs": [
    {
     "name": "stderr",
     "output_type": "stream",
     "text": [
      "C:\\Users\\rapon\\Anaconda3\\envs\\PythonData\\lib\\site-packages\\matplotlib\\cbook\\deprecation.py:106: MatplotlibDeprecationWarning: Adding an axes using the same arguments as a previous axes currently reuses the earlier instance.  In a future version, a new instance will always be created and returned.  Meanwhile, this warning can be suppressed, and the future behavior ensured, by passing a unique label to each axes instance.\n",
      "  warnings.warn(message, mplDeprecation, stacklevel=1)\n"
     ]
    },
    {
     "data": {
      "image/png": "[encoded data removed]",
      "text/plain": [
       "<matplotlib.figure.Figure at 0x1ec7fb35518>"
      ]
     },
     "metadata": {},
     "output_type": "display_data"
    }
   ],
   "source": [
    "#Bar Chart of BPM and Decades\n",
    "x_axis=np.arange(6)\n",
    "(slope, intercept, _,_ , _) = stats.linregress(np.arange(6), bpm_decade_df[\"BPM Average\"])\n",
    "fit = slope * x_axis + intercept\n",
    "plt.plot(fit, color=\"black\")\n",
    "\n",
    "plt.bar(x_axis, bpm_decade_df[\"BPM Average\"], color=\"lightcoral\")\n",
    "#bpm_by_decade = bpm_decade_df.plot(kind=\"bar\", legend= False, rot=45)\n",
    "ax = plt.axes()\n",
    "ax.yaxis.grid()\n",
    "ax.set_axisbelow(True)\n",
    "plt.xticks(x_axis,group_names, rotation=45)\n",
    "#calc the trendline\n",
    "#slope, intercept, r_value, p_value, std_err = stats.linregress(decade_groups,decade_average)\n",
    "# the line equation:\n",
    "#print \"y=%.6fx+(%.6f)\"%(z[0],z[1])\n",
    "# Set a title for the chart\n",
    "plt.ylabel(\"Beats Per Minute\")\n",
    "plt.title(\"Change in Beats Per Minute by Decade\")\n",
    "plt.savefig(\"bpm_decade.png\")\n",
    "plt.show()\n"
   ]
  },
  {
   "cell_type": "code",
   "execution_count": 42,
   "metadata": {},
   "outputs": [
    {
     "data": {
      "image/png": "[encoded data removed]",
      "text/plain": [
       "<matplotlib.figure.Figure at 0x1ec02003588>"
      ]
     },
     "metadata": {},
     "output_type": "display_data"
    }
   ],
   "source": [
    "#Scatterplot Rank vs Beats per minute\n",
    "#plt.figure(figsize=(15,10))\n",
    "plt.scatter(clean_bpm_df[\"Rank\"], clean_bpm_df[\"BPM\"])\n",
    "plt.title('Beats per Minute vs Chart Ranking')\n",
    "plt.xlabel('Chart Rank')\n",
    "plt.ylabel('Beats per Minute')\n",
    "plt.xlim(0,101)\n",
    "#plt.grid()\n",
    "plt.hlines(120, 0, 101)\n",
    "plt.savefig(\"bpm_rank.png\")\n",
    "plt.show()"
   ]
  },
  {
   "cell_type": "code",
   "execution_count": null,
   "metadata": {},
   "outputs": [],
   "source": []
  }
 ],
 "metadata": {
  "kernelspec": {
   "display_name": "Python (PythonData)",
   "language": "python",
   "name": "pythondata"
  },
  "language_info": {
   "codemirror_mode": {
    "name": "ipython",
    "version": 3
   },
   "file_extension": ".py",
   "mimetype": "text/x-python",
   "name": "python",
   "nbconvert_exporter": "python",
   "pygments_lexer": "ipython3",
   "version": "3.6.4"
  }
 },
 "nbformat": 4,
 "nbformat_minor": 2
}
